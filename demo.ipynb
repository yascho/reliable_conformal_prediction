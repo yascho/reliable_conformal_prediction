{
 "cells": [
  {
   "cell_type": "code",
   "execution_count": null,
   "metadata": {},
   "outputs": [],
   "source": [
    "import torch\n",
    "import numpy as np\n",
    "from tqdm.auto import tqdm\n",
    "\n",
    "from rcp.datasets import load_dataset\n",
    "from rcp.cp.prediction import prediction\n",
    "from rcp.cp.conformal_prediction import conf_pred\n",
    "from rcp.cp.certificate import reliability_eval\n",
    "from rcp.utils import *"
   ]
  },
  {
   "cell_type": "code",
   "execution_count": null,
   "metadata": {},
   "outputs": [],
   "source": [
    "hparams = {\n",
    "    \"dataset_path\": \"data/datasets\",\n",
    "    \"dataset\": \"CIFAR10\",\n",
    "    \"device\": \"cuda\",\n",
    "    \"k_t\": 1, # number of training partitions\n",
    "    \"k_c\": 22, # number of calibration partitions\n",
    "    \"alpha\": 0.1,\n",
    "    \"score_function\": \"HPS\"\n",
    "}"
   ]
  },
  {
   "cell_type": "code",
   "execution_count": 3,
   "metadata": {},
   "outputs": [
    {
     "name": "stdout",
     "output_type": "stream",
     "text": [
      "Files already downloaded and verified\n",
      "Files already downloaded and verified\n",
      "Files already downloaded and verified\n",
      "Partitioning the training data\n"
     ]
    },
    {
     "data": {
      "application/vnd.jupyter.widget-view+json": {
       "model_id": "d8fc40c5fc2b4194ab059d5b2ae7b1d4",
       "version_major": 2,
       "version_minor": 0
      },
      "text/plain": [
       "  0%|          | 0/50000 [00:00<?, ?it/s]"
      ]
     },
     "metadata": {},
     "output_type": "display_data"
    },
    {
     "name": "stdout",
     "output_type": "stream",
     "text": [
      "Sorting the training data\n"
     ]
    },
    {
     "data": {
      "application/vnd.jupyter.widget-view+json": {
       "model_id": "fb2b97219962413282b63d2d7b27d219",
       "version_major": 2,
       "version_minor": 0
      },
      "text/plain": [
       "  0%|          | 0/1 [00:00<?, ?it/s]"
      ]
     },
     "metadata": {},
     "output_type": "display_data"
    },
    {
     "name": "stdout",
     "output_type": "stream",
     "text": [
      "Computing the mean and std of each partition\n"
     ]
    },
    {
     "data": {
      "application/vnd.jupyter.widget-view+json": {
       "model_id": "50e400b1455142c28a03e2716ce08573",
       "version_major": 2,
       "version_minor": 0
      },
      "text/plain": [
       "  0%|          | 0/1 [00:00<?, ?it/s]"
      ]
     },
     "metadata": {},
     "output_type": "display_data"
    }
   ],
   "source": [
    "model = torch.load('data/model.pt')\n",
    "_, test_data, means, stds = load_dataset(hparams)"
   ]
  },
  {
   "cell_type": "code",
   "execution_count": 4,
   "metadata": {},
   "outputs": [],
   "source": [
    "# calibration test split\n",
    "val_idx = np.arange(len(test_data))\n",
    "set_random_seed(seed=0)\n",
    "np.random.shuffle(val_idx)\n",
    "cal_idx = val_idx[:1000]\n",
    "test_idx = val_idx[1000:]"
   ]
  },
  {
   "cell_type": "code",
   "execution_count": 5,
   "metadata": {},
   "outputs": [
    {
     "data": {
      "application/vnd.jupyter.widget-view+json": {
       "model_id": "9e09735460f942ff8858884a4de33c57",
       "version_major": 2,
       "version_minor": 0
      },
      "text/plain": [
       "  0%|          | 0/1 [00:00<?, ?it/s]"
      ]
     },
     "metadata": {},
     "output_type": "display_data"
    },
    {
     "name": "stdout",
     "output_type": "stream",
     "text": [
      "Accuracy on test set: 0.93\n"
     ]
    }
   ],
   "source": [
    "# inference\n",
    "params = (test_data, means, stds, model, hparams, test_idx)\n",
    "all_logits, targets, hashes, accs, stats_time = prediction(*params)\n",
    "print(f\"Accuracy on test set: {accs[0]:.2f}\")"
   ]
  },
  {
   "cell_type": "markdown",
   "metadata": {},
   "source": [
    "# Conformal prediction (majority prediction sets)"
   ]
  },
  {
   "cell_type": "code",
   "execution_count": 6,
   "metadata": {},
   "outputs": [
    {
     "data": {
      "application/vnd.jupyter.widget-view+json": {
       "model_id": "1828656cc2b84328b5f7017e40f8194f",
       "version_major": 2,
       "version_minor": 0
      },
      "text/plain": [
       "  0%|          | 0/10000 [00:00<?, ?it/s]"
      ]
     },
     "metadata": {},
     "output_type": "display_data"
    }
   ],
   "source": [
    "cal_indices = [[] for _ in range(hparams['k_c'])]\n",
    "for idx, (image, label) in tqdm(enumerate(test_data), total=len(test_data)):\n",
    "    if idx not in cal_idx:\n",
    "        continue\n",
    "    index = int(image.sum()) % hparams['k_c']\n",
    "    cal_indices[index].append(idx)\n",
    "cal_indices = [np.array(x) for x in cal_indices]"
   ]
  },
  {
   "cell_type": "code",
   "execution_count": 7,
   "metadata": {},
   "outputs": [],
   "source": [
    "params = (test_idx, hparams, cal_indices, all_logits, targets, hashes)\n",
    "conformal_result = conf_pred(*params)"
   ]
  },
  {
   "cell_type": "code",
   "execution_count": 8,
   "metadata": {},
   "outputs": [],
   "source": [
    "# conformal prediction eval\n",
    "PS = conformal_result[0]\n",
    "PS_val = PS[np.arange(len(test_idx)), targets[test_idx]]\n",
    "num_classes = model['hparams']['out_channels']\n",
    "\n",
    "stats_prediction_sets = {\n",
    "    \"empirical_coverage\": PS_val.mean(),\n",
    "    \"avg_set_size\": PS.sum(1).mean(),\n",
    "    \"singleton_hit_ratio\": PS_val[PS.sum(1) == 1].mean(),\n",
    "    \"singleton_proportion\": (PS.sum(1) == 1).sum()/PS.shape[0],\n",
    "    \"zero_sets\": (PS.sum(1) == 0).sum()/PS.shape[0],\n",
    "    \"full_sets\": (PS.sum(1) == num_classes).sum()/PS.shape[0]\n",
    "}"
   ]
  },
  {
   "cell_type": "code",
   "execution_count": 9,
   "metadata": {},
   "outputs": [
    {
     "name": "stdout",
     "output_type": "stream",
     "text": [
      "Empirical coverage: 0.896\n",
      "Average set size: 0.930\n"
     ]
    }
   ],
   "source": [
    "print(f\"Empirical coverage: {stats_prediction_sets['empirical_coverage']:.3f}\")\n",
    "print(f\"Average set size: {stats_prediction_sets['avg_set_size']:.3f}\")"
   ]
  },
  {
   "cell_type": "markdown",
   "metadata": {},
   "source": [
    "# Certification"
   ]
  },
  {
   "cell_type": "code",
   "execution_count": 10,
   "metadata": {},
   "outputs": [],
   "source": [
    "params = hparams, targets, cal_indices, val_idx, conformal_result\n",
    "certificates = reliability_eval(*params)"
   ]
  },
  {
   "cell_type": "code",
   "execution_count": 11,
   "metadata": {},
   "outputs": [
    {
     "data": {
      "image/png": "[encoded data removed]",
      "text/plain": [
       "<Figure size 640x480 with 1 Axes>"
      ]
     },
     "metadata": {},
     "output_type": "display_data"
    }
   ],
   "source": [
    "xticklabels = np.arange(1,21, dtype=object)\n",
    "xticklabels = [str(i)  if i in [1,5,10,15] else \"\" for i in xticklabels]\n",
    "xticks = np.arange(0, 19, step=1).astype(int)\n",
    "xlabel = \"Calibration set radius $r_c$\"\n",
    "ylabel = \"Reliability ratio (%)\"\n",
    "title = f\"tau={conformal_result[2]}\"\n",
    "\n",
    "step_plot(certificates, xticks, xticklabels, xlabel, ylabel, title)"
   ]
  }
 ],
 "metadata": {
  "kernelspec": {
   "display_name": "venv",
   "language": "python",
   "name": "python3"
  },
  "language_info": {
   "codemirror_mode": {
    "name": "ipython",
    "version": 3
   },
   "file_extension": ".py",
   "mimetype": "text/x-python",
   "name": "python",
   "nbconvert_exporter": "python",
   "pygments_lexer": "ipython3",
   "version": "3.11.9"
  }
 },
 "nbformat": 4,
 "nbformat_minor": 2
}
