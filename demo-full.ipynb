{
 "cells": [
  {
   "cell_type": "code",
   "execution_count": 1,
   "metadata": {},
   "outputs": [],
   "source": [
    "import torch\n",
    "import numpy as np\n",
    "from tqdm.auto import tqdm\n",
    "\n",
    "from rcp.training.training import train_image_classifier\n",
    "from rcp.cp.prediction import prediction\n",
    "from rcp.cp.conformal_prediction import conf_pred\n",
    "from rcp.cp.certificate import reliability_eval\n",
    "from rcp.datasets import load_dataset\n",
    "from rcp.models import create_image_classifier\n",
    "from rcp.utils import *"
   ]
  },
  {
   "cell_type": "code",
   "execution_count": 2,
   "metadata": {},
   "outputs": [],
   "source": [
    "hparams = {\n",
    "    \"dataset_path\": \"/ceph/ssd/staff/scholten/data/\",\n",
    "    \"arch\": \"ResNet18\",\n",
    "    \"dataset\": \"CIFAR10\",\n",
    "    \"device\": \"cuda\",\n",
    "    \"model_seed\": 42,\n",
    "    \"in_channels\": 3,\n",
    "    \"out_channels\": 10,\n",
    "    \"batch_size_training\": 128,\n",
    "    \"batch_size_inference\": 300,\n",
    "    \"lr\": 0.01,\n",
    "    \"momentum\": 0.9,\n",
    "    \"weight_decay\": 5e-4,\n",
    "    \"max_epochs\": 400,\n",
    "    \"early_stopping\": 100,\n",
    "    \"lr_scheduler\": \"cosine\",\n",
    "    \"pretrained\": False,\n",
    "    \"k_t\": 100, # number of training partitions\n",
    "    \"k_c\": 40, # number of calibration partitions\n",
    "    \"alpha\": 0.1,\n",
    "    \"score_function\": \"HPS\",\n",
    "    \"with_softmax\": True\n",
    "}"
   ]
  },
  {
   "cell_type": "code",
   "execution_count": null,
   "metadata": {},
   "outputs": [],
   "source": [
    "list_train_data, test_data, means, stds = load_dataset(hparams)"
   ]
  },
  {
   "cell_type": "code",
   "execution_count": null,
   "metadata": {},
   "outputs": [],
   "source": [
    "models = []\n",
    "\n",
    "for i, train_data in tqdm(enumerate(list_train_data)):\n",
    "\n",
    "    set_random_seed(hparams['model_seed'] * (i+1))\n",
    "    model = create_image_classifier(hparams, means[i], stds[i])\n",
    "\n",
    "    set_random_seed(hparams['model_seed'] * (i+1))\n",
    "    model = train_image_classifier(model, train_data, hparams)\n",
    "\n",
    "    models.append(model.cpu().state_dict())"
   ]
  },
  {
   "cell_type": "code",
   "execution_count": 5,
   "metadata": {},
   "outputs": [],
   "source": [
    "# calibration test split\n",
    "val_idx = np.arange(len(test_data))\n",
    "set_random_seed(seed=0)\n",
    "np.random.shuffle(val_idx)\n",
    "cal_idx = val_idx[:1000]\n",
    "test_idx = val_idx[1000:]"
   ]
  },
  {
   "cell_type": "code",
   "execution_count": 6,
   "metadata": {},
   "outputs": [
    {
     "data": {
      "application/vnd.jupyter.widget-view+json": {
       "model_id": "e92faca3e1914a6185e3ae2fd09cdb1a",
       "version_major": 2,
       "version_minor": 0
      },
      "text/plain": [
       "  0%|          | 0/100 [00:00<?, ?it/s]"
      ]
     },
     "metadata": {},
     "output_type": "display_data"
    },
    {
     "name": "stdout",
     "output_type": "stream",
     "text": [
      "Avg. accuracy on test set: 0.39\n"
     ]
    }
   ],
   "source": [
    "# inference\n",
    "experiment = {\"hparams\": hparams, \"models\": models}\n",
    "params = (test_data, means, stds, experiment, hparams, test_idx)\n",
    "all_logits, targets, hashes, accs, stats_time = prediction(*params)\n",
    "print(f\"Avg. accuracy on test set: {np.mean(accs):.2f}\")"
   ]
  },
  {
   "cell_type": "markdown",
   "metadata": {},
   "source": [
    "# Conformal prediction (majority prediction sets)"
   ]
  },
  {
   "cell_type": "code",
   "execution_count": 7,
   "metadata": {},
   "outputs": [
    {
     "data": {
      "application/vnd.jupyter.widget-view+json": {
       "model_id": "663cb3da7d6246c8849d47d35081a499",
       "version_major": 2,
       "version_minor": 0
      },
      "text/plain": [
       "  0%|          | 0/10000 [00:00<?, ?it/s]"
      ]
     },
     "metadata": {},
     "output_type": "display_data"
    }
   ],
   "source": [
    "cal_indices = [[] for _ in range(hparams['k_c'])]\n",
    "for idx, (image, label) in tqdm(enumerate(test_data), total=len(test_data)):\n",
    "    if idx not in cal_idx:\n",
    "        continue\n",
    "    index = int(image.sum()) % hparams['k_c']\n",
    "    cal_indices[index].append(idx)\n",
    "cal_indices = [np.array(x) for x in cal_indices]"
   ]
  },
  {
   "cell_type": "code",
   "execution_count": 8,
   "metadata": {},
   "outputs": [
    {
     "data": {
      "application/vnd.jupyter.widget-view+json": {
       "model_id": "39e21057542941b49f6029f6dadd2a5d",
       "version_major": 2,
       "version_minor": 0
      },
      "text/plain": [
       "  0%|          | 0/40 [00:00<?, ?it/s]"
      ]
     },
     "metadata": {},
     "output_type": "display_data"
    }
   ],
   "source": [
    "params = (test_idx, hparams, cal_indices, all_logits, targets, hashes)\n",
    "conformal_result = conf_pred(*params)"
   ]
  },
  {
   "cell_type": "code",
   "execution_count": 9,
   "metadata": {},
   "outputs": [],
   "source": [
    "# conformal prediction eval\n",
    "PS = conformal_result[0]\n",
    "PS_val = PS[np.arange(len(test_idx)), targets[test_idx]]\n",
    "num_classes = hparams['out_channels']\n",
    "\n",
    "stats_prediction_sets = {\n",
    "    \"empirical_coverage\": PS_val.mean(),\n",
    "    \"avg_set_size\": PS.sum(1).mean(),\n",
    "    \"singleton_hit_ratio\": PS_val[PS.sum(1) == 1].mean(),\n",
    "    \"singleton_proportion\": (PS.sum(1) == 1).sum()/PS.shape[0],\n",
    "    \"zero_sets\": (PS.sum(1) == 0).sum()/PS.shape[0],\n",
    "    \"full_sets\": (PS.sum(1) == num_classes).sum()/PS.shape[0]\n",
    "}"
   ]
  },
  {
   "cell_type": "code",
   "execution_count": 10,
   "metadata": {},
   "outputs": [
    {
     "name": "stdout",
     "output_type": "stream",
     "text": [
      "Empirical coverage: 0.909\n",
      "Average set size: 3.192\n"
     ]
    }
   ],
   "source": [
    "print(f\"Empirical coverage: {stats_prediction_sets['empirical_coverage']:.3f}\")\n",
    "print(f\"Average set size: {stats_prediction_sets['avg_set_size']:.3f}\")"
   ]
  },
  {
   "cell_type": "markdown",
   "metadata": {},
   "source": [
    "# Certification"
   ]
  },
  {
   "cell_type": "code",
   "execution_count": 11,
   "metadata": {},
   "outputs": [
    {
     "data": {
      "application/vnd.jupyter.widget-view+json": {
       "model_id": "77efa79a0cfc4955b8c894a211624cb9",
       "version_major": 2,
       "version_minor": 0
      },
      "text/plain": [
       "  0%|          | 0/40 [00:00<?, ?it/s]"
      ]
     },
     "metadata": {},
     "output_type": "display_data"
    },
    {
     "data": {
      "application/vnd.jupyter.widget-view+json": {
       "model_id": "23e9459447ac4239a2e522a62bd5081b",
       "version_major": 2,
       "version_minor": 0
      },
      "text/plain": [
       "  0%|          | 0/10 [00:00<?, ?it/s]"
      ]
     },
     "metadata": {},
     "output_type": "display_data"
    },
    {
     "data": {
      "application/vnd.jupyter.widget-view+json": {
       "model_id": "687a0f3ac2d54426bd4469c663dd2c9c",
       "version_major": 2,
       "version_minor": 0
      },
      "text/plain": [
       "  0%|          | 0/100 [00:00<?, ?it/s]"
      ]
     },
     "metadata": {},
     "output_type": "display_data"
    }
   ],
   "source": [
    "params = hparams, targets, cal_indices, test_idx, conformal_result\n",
    "certificates = reliability_eval(*params)"
   ]
  },
  {
   "cell_type": "code",
   "execution_count": 12,
   "metadata": {},
   "outputs": [],
   "source": [
    "plot = {k : np.diag(certificates[k]) for k in certificates}"
   ]
  },
  {
   "cell_type": "code",
   "execution_count": 13,
   "metadata": {},
   "outputs": [
    {
     "data": {
      "image/png": "[encoded data removed]",
      "text/plain": [
       "<Figure size 640x480 with 1 Axes>"
      ]
     },
     "metadata": {},
     "output_type": "display_data"
    }
   ],
   "source": [
    "xticklabels = np.arange(1,8, dtype=object)\n",
    "xticks = np.arange(0, 8, step=1).astype(int)\n",
    "xlabel = \"Calibration set radius $r_c$\"\n",
    "ylabel = \"Reliability ratio (%)\"\n",
    "title = f\"tau={conformal_result[2]}\"\n",
    "\n",
    "step_plot(plot, xticks, xticklabels, xlabel, ylabel, title)"
   ]
  }
 ],
 "metadata": {
  "kernelspec": {
   "display_name": "venv",
   "language": "python",
   "name": "python3"
  },
  "language_info": {
   "codemirror_mode": {
    "name": "ipython",
    "version": 3
   },
   "file_extension": ".py",
   "mimetype": "text/x-python",
   "name": "python",
   "nbconvert_exporter": "python",
   "pygments_lexer": "ipython3",
   "version": "3.11.9"
  }
 },
 "nbformat": 4,
 "nbformat_minor": 2
}
